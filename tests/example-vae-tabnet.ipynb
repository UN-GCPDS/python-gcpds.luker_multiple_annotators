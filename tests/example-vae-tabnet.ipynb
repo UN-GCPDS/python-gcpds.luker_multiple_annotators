{
 "cells": [
  {
   "cell_type": "code",
   "execution_count": 1,
   "id": "306f3365",
   "metadata": {
    "_cell_guid": "b1076dfc-b9ad-4769-8c92-a6c4dae69d19",
    "_uuid": "8f2839f25d086af736a60e9eeb907d3b93b6e0e5",
    "execution": {
     "iopub.execute_input": "2025-03-28T13:57:14.347693Z",
     "iopub.status.busy": "2025-03-28T13:57:14.347300Z",
     "iopub.status.idle": "2025-03-28T13:57:38.650480Z",
     "shell.execute_reply": "2025-03-28T13:57:38.649254Z"
    },
    "papermill": {
     "duration": 24.309074,
     "end_time": "2025-03-28T13:57:38.652475",
     "exception": false,
     "start_time": "2025-03-28T13:57:14.343401",
     "status": "completed"
    },
    "tags": []
   },
   "outputs": [
    {
     "name": "stdout",
     "output_type": "stream",
     "text": [
      "  Preparing metadata (setup.py) ... \u001b[?25l\u001b[?25hdone\r\n",
      "\u001b[2K   \u001b[90m━━━━━━━━━━━━━━━━━━━━━━━━━━━━━━━━━━━━━━━━\u001b[0m \u001b[32m392.9/392.9 kB\u001b[0m \u001b[31m8.4 MB/s\u001b[0m eta \u001b[36m0:00:00\u001b[0m\r\n",
      "\u001b[2K   \u001b[90m━━━━━━━━━━━━━━━━━━━━━━━━━━━━━━━━━━━━━━━━\u001b[0m \u001b[32m44.5/44.5 kB\u001b[0m \u001b[31m2.0 MB/s\u001b[0m eta \u001b[36m0:00:00\u001b[0m\r\n",
      "\u001b[2K   \u001b[90m━━━━━━━━━━━━━━━━━━━━━━━━━━━━━━━━━━━━━━━━\u001b[0m \u001b[32m45.8/45.8 kB\u001b[0m \u001b[31m2.1 MB/s\u001b[0m eta \u001b[36m0:00:00\u001b[0m\r\n",
      "\u001b[2K   \u001b[90m━━━━━━━━━━━━━━━━━━━━━━━━━━━━━━━━━━━━━━━━\u001b[0m \u001b[32m111.0/111.0 kB\u001b[0m \u001b[31m5.2 MB/s\u001b[0m eta \u001b[36m0:00:00\u001b[0m\r\n",
      "\u001b[?25h  Building wheel for gcpds_luker_multiple_annotators (setup.py) ... \u001b[?25l\u001b[?25hdone\r\n"
     ]
    }
   ],
   "source": [
    "!pip install -q git+https://github.com/un-gcpds/python-gcpds.luker_multiple_annotators.git"
   ]
  },
  {
   "cell_type": "code",
   "execution_count": 2,
   "id": "7395310f",
   "metadata": {
    "execution": {
     "iopub.execute_input": "2025-03-28T13:57:38.660082Z",
     "iopub.status.busy": "2025-03-28T13:57:38.659681Z",
     "iopub.status.idle": "2025-03-28T13:57:44.573755Z",
     "shell.execute_reply": "2025-03-28T13:57:44.572657Z"
    },
    "papermill": {
     "duration": 5.919911,
     "end_time": "2025-03-28T13:57:44.575749",
     "exception": false,
     "start_time": "2025-03-28T13:57:38.655838",
     "status": "completed"
    },
    "tags": []
   },
   "outputs": [],
   "source": [
    "import numpy as np\n",
    "import torch\n",
    "from torch.utils.data import DataLoader\n",
    "from sklearn.model_selection import train_test_split\n",
    "\n",
    "from AutoTabVAE import TabNetVAE, TabularDataset, train_model, run_optuna"
   ]
  },
  {
   "cell_type": "code",
   "execution_count": 3,
   "id": "fa477a00",
   "metadata": {
    "execution": {
     "iopub.execute_input": "2025-03-28T13:57:44.582503Z",
     "iopub.status.busy": "2025-03-28T13:57:44.581975Z",
     "iopub.status.idle": "2025-03-28T13:57:44.595854Z",
     "shell.execute_reply": "2025-03-28T13:57:44.594648Z"
    },
    "papermill": {
     "duration": 0.01939,
     "end_time": "2025-03-28T13:57:44.597933",
     "exception": false,
     "start_time": "2025-03-28T13:57:44.578543",
     "status": "completed"
    },
    "tags": []
   },
   "outputs": [],
   "source": [
    "# 1. Generate synthetic data\n",
    "N, D = 5000, 8         # N samples, D input features\n",
    "output_dim = 5         # number of output regression targets\n",
    "\n",
    "X = np.random.rand(N, D).astype(np.float32)\n",
    "y = (\n",
    "    np.sin(X[:, 0:1] * 6) +\n",
    "    X[:, 1:2] * 3 +\n",
    "    np.random.normal(0, 0.2, size=(N, output_dim))\n",
    ").astype(np.float32)\n",
    "\n",
    "# 2. Split data into training and test sets\n",
    "X_train, X_test, y_train, y_test = train_test_split(X, y, test_size=0.2, random_state=42)"
   ]
  },
  {
   "cell_type": "code",
   "execution_count": 4,
   "id": "9267b258",
   "metadata": {
    "execution": {
     "iopub.execute_input": "2025-03-28T13:57:44.605443Z",
     "iopub.status.busy": "2025-03-28T13:57:44.605001Z",
     "iopub.status.idle": "2025-03-28T14:22:32.337428Z",
     "shell.execute_reply": "2025-03-28T14:22:32.336341Z"
    },
    "papermill": {
     "duration": 1487.741161,
     "end_time": "2025-03-28T14:22:32.342377",
     "exception": false,
     "start_time": "2025-03-28T13:57:44.601216",
     "status": "completed"
    },
    "tags": []
   },
   "outputs": [
    {
     "name": "stderr",
     "output_type": "stream",
     "text": [
      "[I 2025-03-28 13:57:44,608] A new study created in memory with name: no-name-16402011-0023-4cb0-ad80-d50583c370fa\n",
      "[I 2025-03-28 14:10:17,522] Trial 0 finished with value: 0.08181064829230308 and parameters: {'n_d': 16, 'n_a': 16, 'n_steps': 3, 'gamma': 1.0, 'latent_dim': 2, 'recon': 1.0, 'kl': 0.001, 'reg': 1.0, 'sparse': 0.001, 'lr': 0.001, 'batch_size': 32, 'max_reg_neurons': 32, 'num_reg_layers': 1}. Best is trial 0 with value: 0.08181064829230308.\n",
      "[I 2025-03-28 14:22:32,331] Trial 1 finished with value: 0.08374994191527367 and parameters: {'n_d': 8, 'n_a': 16, 'n_steps': 3, 'gamma': 1.0, 'latent_dim': 2, 'recon': 1.0, 'kl': 0.001, 'reg': 1.0, 'sparse': 0.001, 'lr': 0.001, 'batch_size': 32, 'max_reg_neurons': 32, 'num_reg_layers': 1}. Best is trial 0 with value: 0.08181064829230308.\n"
     ]
    },
    {
     "name": "stdout",
     "output_type": "stream",
     "text": [
      "Best hyperparameters:\n",
      " {'n_d': 16, 'n_a': 16, 'n_steps': 3, 'gamma': 1.0, 'latent_dim': 2, 'recon': 1.0, 'kl': 0.001, 'reg': 1.0, 'sparse': 0.001, 'lr': 0.001, 'batch_size': 32, 'max_reg_neurons': 32, 'num_reg_layers': 1}\n"
     ]
    }
   ],
   "source": [
    "# 3. Define a constrained search space for quick optimization\n",
    "search_space = {\n",
    "    \"n_d\": {\"low\": 8, \"high\": 16, \"step\": 8},\n",
    "    \"n_a\": {\"low\": 8, \"high\": 16, \"step\": 8},\n",
    "    \"n_steps\": {\"low\": 3, \"high\": 3},  # Fixed\n",
    "    \"latent_dim\": {\"low\": 2, \"high\": 2},  # Fixed\n",
    "    \"gamma\": {\"low\": 1.0, \"high\": 1.0},   # Fixed\n",
    "    \"lr\": {\"low\": 1e-3, \"high\": 1e-3},    # Fixed\n",
    "    \"recon\": {\"low\": 1.0, \"high\": 1.0},\n",
    "    \"kl\": {\"low\": 1e-3, \"high\": 1e-3},\n",
    "    \"reg\": {\"low\": 1.0, \"high\": 1.0},\n",
    "    \"sparse\": {\"low\": 1e-3, \"high\": 1e-3},\n",
    "    \"batch_size\": {\"choices\": [32]},\n",
    "    \"max_reg_neurons\": {\"choices\": [32]},\n",
    "    \"num_reg_layers\": {\"low\": 1, \"high\": 1}\n",
    "}\n",
    "\n",
    "# 4. Run a lightweight Optuna hyperparameter search\n",
    "study = run_optuna(X_train, y_train, n_trials=2, param_config=search_space, train_settings={'epochs': 50})\n",
    "print(\"Best hyperparameters:\\n\", study.best_params)"
   ]
  },
  {
   "cell_type": "code",
   "execution_count": 5,
   "id": "4281e4ac",
   "metadata": {
    "execution": {
     "iopub.execute_input": "2025-03-28T14:22:32.349961Z",
     "iopub.status.busy": "2025-03-28T14:22:32.349427Z",
     "iopub.status.idle": "2025-03-28T14:28:18.695217Z",
     "shell.execute_reply": "2025-03-28T14:28:18.693962Z"
    },
    "papermill": {
     "duration": 346.354494,
     "end_time": "2025-03-28T14:28:18.700003",
     "exception": false,
     "start_time": "2025-03-28T14:22:32.345509",
     "status": "completed"
    },
    "tags": []
   },
   "outputs": [
    {
     "name": "stdout",
     "output_type": "stream",
     "text": [
      "✅ Test MSE: 0.0735\n"
     ]
    }
   ],
   "source": [
    "# ================================\n",
    "# FINAL MODEL TRAINING CONFIGURATION\n",
    "# ================================\n",
    "\n",
    "# 5. Extract best parameters from the study\n",
    "best = study.best_params\n",
    "\n",
    "# 6. Define the regression head structure\n",
    "hidden_sizes = [\n",
    "    best['max_reg_neurons'] // (2 ** i)\n",
    "    for i in range(best['num_reg_layers'])\n",
    "    if best['max_reg_neurons'] // (2 ** i) >= 8\n",
    "]\n",
    "\n",
    "# 7. Instantiate the final model\n",
    "final_model = TabNetVAE(\n",
    "    input_dim=X_train.shape[1],\n",
    "    latent_dim=best['latent_dim'],\n",
    "    output_dim=y_train.shape[1],\n",
    "    n_d=best['n_d'],\n",
    "    n_a=best['n_a'],\n",
    "    n_steps=best['n_steps'],\n",
    "    gamma=best['gamma'],\n",
    "    hidden_sizes=hidden_sizes\n",
    ")\n",
    "\n",
    "# 8. Create data loaders\n",
    "train_dataset = TabularDataset(X_train, y_train)\n",
    "val_dataset = TabularDataset(X_test, y_test)\n",
    "\n",
    "train_loader = DataLoader(train_dataset, batch_size=best['batch_size'], shuffle=True)\n",
    "val_loader = DataLoader(val_dataset, batch_size=best['batch_size'])\n",
    "\n",
    "# 9. Training configuration\n",
    "device = torch.device(\"cuda\" if torch.cuda.is_available() else \"cpu\")\n",
    "train_config = {\n",
    "    \"epochs\": 200,\n",
    "    \"lr\": best['lr'],\n",
    "    \"patience\": 20,\n",
    "    \"loss_weights\": {\n",
    "        \"recon\": best['recon'],\n",
    "        \"kl\": best['kl'],\n",
    "        \"reg\": best['reg'],\n",
    "        \"sparse\": best['sparse']\n",
    "    }\n",
    "}\n",
    "\n",
    "# 10. Train the final model\n",
    "final_model, final_val_loss = train_model(final_model, train_loader, val_loader, train_config, device)\n",
    "\n",
    "# 11. Evaluate the final model on the test set\n",
    "final_model.eval()\n",
    "with torch.no_grad():\n",
    "    y_pred = []\n",
    "    for x_batch, _ in val_loader:\n",
    "        x_batch = x_batch.to(device)\n",
    "        _, regression_output, *_ = final_model(x_batch)\n",
    "        y_pred.append(regression_output.cpu())\n",
    "\n",
    "    y_pred = torch.cat(y_pred, dim=0).numpy()\n",
    "\n",
    "# 12. Final metric (MSE)\n",
    "from sklearn.metrics import mean_squared_error\n",
    "mse = mean_squared_error(y_test, y_pred)\n",
    "print(f\"✅ Test MSE: {mse:.4f}\")"
   ]
  },
  {
   "cell_type": "code",
   "execution_count": null,
   "id": "9a085707",
   "metadata": {
    "papermill": {
     "duration": 0.002696,
     "end_time": "2025-03-28T14:28:18.705934",
     "exception": false,
     "start_time": "2025-03-28T14:28:18.703238",
     "status": "completed"
    },
    "tags": []
   },
   "outputs": [],
   "source": []
  }
 ],
 "metadata": {
  "kaggle": {
   "accelerator": "none",
   "dataSources": [],
   "dockerImageVersionId": 30918,
   "isGpuEnabled": false,
   "isInternetEnabled": true,
   "language": "python",
   "sourceType": "notebook"
  },
  "kernelspec": {
   "display_name": "Python 3",
   "language": "python",
   "name": "python3"
  },
  "language_info": {
   "codemirror_mode": {
    "name": "ipython",
    "version": 3
   },
   "file_extension": ".py",
   "mimetype": "text/x-python",
   "name": "python",
   "nbconvert_exporter": "python",
   "pygments_lexer": "ipython3",
   "version": "3.10.12"
  },
  "papermill": {
   "default_parameters": {},
   "duration": 1869.659898,
   "end_time": "2025-03-28T14:28:21.184436",
   "environment_variables": {},
   "exception": null,
   "input_path": "__notebook__.ipynb",
   "output_path": "__notebook__.ipynb",
   "parameters": {},
   "start_time": "2025-03-28T13:57:11.524538",
   "version": "2.6.0"
  }
 },
 "nbformat": 4,
 "nbformat_minor": 5
}
